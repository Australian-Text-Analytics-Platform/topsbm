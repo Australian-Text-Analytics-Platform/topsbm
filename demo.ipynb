{
 "cells": [
  {
   "cell_type": "markdown",
   "id": "8d3db64f-6449-4498-aeef-485969b4d8f4",
   "metadata": {},
   "source": [
    "<a href=\"https://atap.edu.au\"><img src=\"https://www.atap.edu.au/atap-logo.png\" width=\"125\" height=\"50\" align=\"right\"></a>\n",
    "# ATAP: TopSBM\n",
    "\n",
    "TopSBM is a topic modelling approach that leverages a bipartite network of documents and terms and finding a hierarchy of blocks (or clusters) within the two types.\n",
    "\n",
    "Australian Text Analytics Platform (ATAP) is an open source environment that provides researchers with tools and training for analysing, processing, and exploring text. ATAP: TopSBM is an effort to integrate the TopSBM approach developed by E.G. Altman et al which focuses on analysing and exploring your text.\n",
    "\n",
    "**References**:\n",
    "1. TopSBM: Topic Models based on Stochastic Block Models - https://topsbm.github.io/\n",
    "2. ATAP: Australian Text Analytics Platform - https://www.atap.edu.au/\n",
    "   "
   ]
  },
  {
   "cell_type": "markdown",
   "id": "914042e8-375b-4add-baf9-5f963284fd49",
   "metadata": {},
   "source": [
    "## Demo\n",
    "This notebook is a demo of using TopSBM and integrates with `atap_corpus` from ATAP.\n",
    "\n",
    "It first builds an ATAP Corpus and assign a 'title' as metadata and then compute a document-term-matrix DTM. <br>The DTM will be used as input to build the TopSBM network which the model will be fitted against. The 'title' metadata is used as label for the documents.\n",
    "\n",
    "Then, wrap the model and corpus with the ATAP wrapper allows you to integrate your results with ATAP Corpus including at the end a download link for your Corpus with your results for re-use. You can then carry it across to another ATAP tool notebook available on our [website](https://www.atap.edu.au/) for further exploration or analysis."
   ]
  },
  {
   "cell_type": "code",
   "execution_count": null,
   "id": "90210e14-f32d-4372-b465-1128721ccb4a",
   "metadata": {
    "tags": []
   },
   "outputs": [],
   "source": [
    "import pandas as pd\n",
    "# documents\n",
    "with open('assets/corpus.txt', 'r', encoding='utf-8') as h:\n",
    "    lines = h.readlines() \n",
    "df = pd.DataFrame(lines, columns=['document'])\n",
    "\n",
    "# meta - title\n",
    "with open('assets/titles.txt', 'r', encoding='utf-8') as h:\n",
    "    titles = [l.rstrip() for l in h.readlines()]\n",
    "df['title'] = titles\n",
    "df.head(3)"
   ]
  },
  {
   "cell_type": "code",
   "execution_count": null,
   "id": "cf3999da-c5dc-4723-b9df-e3eea639b3f1",
   "metadata": {
    "tags": []
   },
   "outputs": [],
   "source": [
    "from atap_corpus import Corpus\n",
    "\n",
    "corpus = Corpus.from_dataframe(df, col_doc='document', name='topsbm')\n",
    "f\"Corpus <name: {corpus.name}   size: {len(corpus)} documents>\""
   ]
  },
  {
   "cell_type": "code",
   "execution_count": null,
   "id": "5cfeb904-fc96-4e94-864c-ea9100a673b4",
   "metadata": {},
   "outputs": [],
   "source": [
    "# create your document-term-matrix\n",
    "dtm_name = 'tokens'                               # name of your DTM\n",
    "tokeniser_func = lambda doc: doc.split()          # how you define each 'term' in the DTM from each document. (Here, it is whitespace delimited)\n",
    "\n",
    "corpus.add_dtm_from_docs(tokeniser_func=tokeniser_func, name=dtm_name)\n",
    "f\"Created DTM: {corpus.dtms[dtm_name]}\""
   ]
  },
  {
   "cell_type": "markdown",
   "id": "e9ea6051-a24b-46c3-9a6e-8ad05f6d1d1d",
   "metadata": {},
   "source": [
    "## Alternative: Upload Corpus\n",
    "You may choose to upload the pre-built `demo_corpus.zip` which will be the exact corpus built from the previous cells."
   ]
  },
  {
   "cell_type": "code",
   "execution_count": null,
   "id": "87e4460a-2b1f-40fb-9ac2-4f871e6ebaa9",
   "metadata": {},
   "outputs": [],
   "source": [
    "# alternatively: upload demo_corpus.zip - which is the corpus built before.\n",
    "from atap_corpus.utils import corpus_uploader\n",
    "\n",
    "finp, corpora = corpus_uploader()\n",
    "finp"
   ]
  },
  {
   "cell_type": "code",
   "execution_count": null,
   "id": "799d1971-bee8-479a-abc5-4543efe2294f",
   "metadata": {},
   "outputs": [],
   "source": [
    "corpus = corpora.items()[-1]   # retrieve last uploaded corpus\n",
    "dtm_name = list(corpus.dtms.keys())[0] # retrieve the name of the first DTM (only has one)\n",
    "f\"Corpus <name: {corpus.name}   size: {len(corpus)} documents>\""
   ]
  },
  {
   "cell_type": "markdown",
   "id": "4d531f84-f819-4089-becf-30c1722a3abb",
   "metadata": {},
   "source": [
    "## TopSBM: `make_graph()` and `fit()`"
   ]
  },
  {
   "cell_type": "code",
   "execution_count": null,
   "id": "610e7c41-9713-44ad-812c-fd057850ebcd",
   "metadata": {},
   "outputs": [],
   "source": [
    "from topsbm.sbmtm import sbmtm\n",
    "\n",
    "model = sbmtm()\n",
    "model.make_graph(corpus.dtms['tokens'].to_lists_of_terms(), corpus['title'].tolist())\n",
    "model.fit()"
   ]
  },
  {
   "cell_type": "markdown",
   "id": "adddd21c-0723-4b00-a33e-7a05f2409b01",
   "metadata": {},
   "source": [
    "## Visualise the inferred hierarchical blocks"
   ]
  },
  {
   "cell_type": "code",
   "execution_count": null,
   "id": "2950d784-38c8-44b7-9409-c7c42421ae12",
   "metadata": {},
   "outputs": [],
   "source": [
    "from atap_wrapper import visualise_blocks \n",
    "\n",
    "vis_doc, vis_word = visualise_blocks(model, kind='collapsible-tree')"
   ]
  },
  {
   "cell_type": "code",
   "execution_count": null,
   "id": "23ebae51-9311-40ed-a712-ba61174ce764",
   "metadata": {},
   "outputs": [],
   "source": [
    "vis_doc"
   ]
  },
  {
   "cell_type": "code",
   "execution_count": null,
   "id": "61b08ed0-eb11-436e-9442-398c1b9c3e84",
   "metadata": {},
   "outputs": [],
   "source": [
    "vis_word"
   ]
  },
  {
   "cell_type": "markdown",
   "id": "44ac1f20-3e91-41ff-8ba1-86e2daf5a02c",
   "metadata": {},
   "source": [
    "## ATAP wrapper: Download \n",
    "\n",
    "Wrap your model and corpus with atap and then call serialise on the wrapper.\n",
    "This is a custom wrapper for TopSBM only."
   ]
  },
  {
   "cell_type": "code",
   "execution_count": null,
   "id": "19cbbbf4-7b8e-4503-9c55-db8b95151001",
   "metadata": {},
   "outputs": [],
   "source": [
    "from atap_wrapper import wrap\n",
    "\n",
    "wrapped = wrap(model, corpus, used_dtm=dtm_name) # dtm_name is the name of the dtm you've used earlier to build and fit the model.\n",
    "wrapped.download()"
   ]
  }
 ],
 "metadata": {
  "kernelspec": {
   "display_name": "Python 3 (ipykernel)",
   "language": "python",
   "name": "python3"
  },
  "language_info": {
   "codemirror_mode": {
    "name": "ipython",
    "version": 3
   },
   "file_extension": ".py",
   "mimetype": "text/x-python",
   "name": "python",
   "nbconvert_exporter": "python",
   "pygments_lexer": "ipython3",
   "version": "3.11.5"
  }
 },
 "nbformat": 4,
 "nbformat_minor": 5
}
