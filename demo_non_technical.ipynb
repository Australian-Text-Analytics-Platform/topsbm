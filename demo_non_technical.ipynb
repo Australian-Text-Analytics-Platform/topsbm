{
 "cells": [
  {
   "cell_type": "markdown",
   "id": "8007a334-61ad-4c43-83fd-cd5461916789",
   "metadata": {},
   "source": [
    "<a href=\"https://atap.edu.au\"><img src=\"https://www.atap.edu.au/atap-logo.png\" width=\"125\" height=\"50\" align=\"right\"></a>\n",
    "# ATAP: TopSBM\n",
    "\n",
    "*Australian Text Analytics Platform (ATAP) is an open source environment that provides researchers with tools and training for analysing, processing, and exploring text. ATAP: TopSBM is an effort to integrate the TopSBM approach developed by E.G. Altman et al which focuses on analysing and exploring your text.*\n",
    "\n",
    "**This notebook is intended for non technical audience.**\n",
    "\n",
    "---\n",
    "\n",
    "**TopSBM** is a topic modelling algorithm. [Topic modelling](https://en.wikipedia.org/wiki/Topic_model) find *topics* within a collection of documents.\n",
    "\n",
    "A *topic* in topic modelling typically refers to a group of related documents from the collection. Note that the step of assigning a word to describe the group is not part of the topic modelling algorithm as opposed to the conventional idea. (However, this is can be achieved later on using a language model e.g. ChatGPT)\n",
    "\n",
    "A *document* refers to the full piece of text and is synonymous to the conventional meaning of the word.\n",
    "\n",
    "\n",
    "\n",
    "\n",
    "**References**:\n",
    "1. TopSBM: Topic Models based on Stochastic Block Models - https://topsbm.github.io/\n",
    "2. ATAP: Australian Text Analytics Platform - https://www.atap.edu.au/"
   ]
  },
  {
   "cell_type": "markdown",
   "id": "5d074772-0fcf-4d7a-9614-cbdfa7797820",
   "metadata": {},
   "source": [
    "## 1. Upload your dataset\n",
    "\n",
    "In the Corpus Loader below, select your dataset and build it as a Corpus.\n",
    "\n",
    "This is the first step in using the TopSBM notebook. Your Corpus should contain a collection of documents, so that *topics* may be inferred by running the TopSBM algorithm.\n",
    "\n",
    "For detailed instructions on how to use the Corpus Loader, please click <a href=\"Corpus Loader User Guide.pdf\" target=\"_blank\">here</a>.\n",
    "\n",
    "Please note:\n",
    "+ you don't have to use `corpus.csv` or `title.csv`. These are sample datasets.\n",
    "    + If you decide to use them, then click on `corpus.csv` and load as corpus, then `title.csv` loader as metadata. Then link via their `doc_id` label.\n",
    "+ you can safely ignore `corpus.txt`, `titles.txt`, these are kept for archiving purposes and are not used in this notebook."
   ]
  },
  {
   "cell_type": "code",
   "execution_count": null,
   "id": "d75a1902-3649-4b5d-82b9-5996a0302c8e",
   "metadata": {},
   "outputs": [],
   "source": [
    "from atap_corpus_loader import CorpusLoader\n",
    "\n",
    "loader = CorpusLoader('misc/dataTopSBM')\n",
    "loader"
   ]
  },
  {
   "cell_type": "code",
   "execution_count": null,
   "id": "1da3df49-bce0-40e9-8d8f-e0d053768954",
   "metadata": {},
   "outputs": [],
   "source": [
    "corpus = loader.get_latest_corpus()\n",
    "str(corpus), f\"Metas: {', '.join(corpus.metas)}\""
   ]
  },
  {
   "cell_type": "markdown",
   "id": "7da93c63-7123-47c4-bf0f-83666599e63e",
   "metadata": {},
   "source": [
    "## 2. Create a Document-Term Matrix (DTM) of your Corpus.\n",
    "\n",
    "A DTM is a matrix where rows are documents and the columns are terms (or words). This construct is a part of your Corpus.\n",
    "\n",
    "You'll need to construct one as it is used by the TopSBM topic modelling algorithm.\n",
    "\n",
    "To build one, you must first specify how to separate the text in each document into a list of words/terms. Here, we separate them by whitespace.\n",
    "\n",
    "You may also have multiple DTMs for different ways of separating the terms."
   ]
  },
  {
   "cell_type": "code",
   "execution_count": null,
   "id": "378f1cfa-ce37-4670-8c1a-bf515177ef88",
   "metadata": {},
   "outputs": [],
   "source": [
    "# dev purposes only\n",
    "import pandas as pd\n",
    "from atap_corpus import Corpus\n",
    "\n",
    "corpus = Corpus.from_dataframe(pd.read_csv(\"misc/dataTopSBM/wiki.csv\"), col_doc='document', name='wiki')\n",
    "str(corpus), f\"Metas: {', '.join(corpus.metas)}\""
   ]
  },
  {
   "cell_type": "code",
   "execution_count": null,
   "id": "dcc2effd-d97f-4ebf-93ad-b84de036cbff",
   "metadata": {},
   "outputs": [],
   "source": [
    "import spacy\n",
    "nlp = spacy.blank('en')\n",
    "corpus.run_spacy(nlp)"
   ]
  },
  {
   "cell_type": "code",
   "execution_count": null,
   "id": "57b71c64-97a5-4a16-bbed-8a34d3667876",
   "metadata": {},
   "outputs": [],
   "source": [
    "## set up tokeniser functions\n",
    "from spacy.matcher import Matcher\n",
    "from atap_corpus._types import Doc\n",
    "\n",
    "\n",
    "matcher = Matcher(nlp.vocab)\n",
    "pattern = [{\"IS_STOP\": False}]  # Match tokens that are not stopwords\n",
    "matcher.add(\"NON_STOPWORDS\", [pattern])\n",
    "\n",
    "doc: Doc\n",
    "tokeniser_fns = {\n",
    "    \"whitespace\": lambda doc: [t.text for t in doc],\n",
    "    \"no_stopwords\": lambda doc: [doc[start:end].text for match_id, start, end in matcher(doc)]\n",
    "}"
   ]
  },
  {
   "cell_type": "markdown",
   "id": "1aae7bcf-2369-40bd-81aa-dd1ffca47c3d",
   "metadata": {},
   "source": [
    "## 3. TopSBM\n",
    "Now you have everything you need to run TopSBM!\n",
    "\n",
    "As you can see, we're accessing the Corpus's DTM, specifically the 'tokens' DTM as specified before.\n",
    "\n",
    "`model.make_graph(...)` constructs the graph for the model using the information from the DTM.\n",
    "`.model.fit()` will then run the TopSBM algorithm. \n",
    "\n",
    "Once it finishes running, the square bracket indicator on the left of the cell should change from [*] to [\\<number\\>] where \\<number\\> is a placeholder. "
   ]
  },
  {
   "cell_type": "code",
   "execution_count": null,
   "id": "0d292aee-c436-42a1-aee2-028cf896e718",
   "metadata": {},
   "outputs": [],
   "source": [
    "# todo: use a selector panel here for corpus selection + which dtm to use"
   ]
  },
  {
   "cell_type": "code",
   "execution_count": null,
   "id": "10b8924d-72ea-4362-8bc7-4a2e43304197",
   "metadata": {},
   "outputs": [],
   "source": [
    "from topsbm.sbmtm import sbmtm\n",
    "import atap_wrapper as atap\n",
    "\n",
    "model = sbmtm()\n",
    "model.make_graph(\n",
    "    # convert corpus to a list of terms using chosen tokenising function.\n",
    "    atap.to_list_of_terms(corpus, tokeniser_fns['whitespace']),    \n",
    "    # provide the name for each document in the corpus.\n",
    "    documents=corpus['title'].tolist(),  \n",
    ")\n",
    "model.fit()"
   ]
  },
  {
   "cell_type": "markdown",
   "id": "a11b9e75-9ed4-43f4-b62e-751a042a59e9",
   "metadata": {},
   "source": [
    "## 4. Visualise Outputs\n",
    "\n",
    "Now that the algorithm has been fitted onto your dataset, you can now visualise the outputs.\n",
    "\n",
    "There are currently 2 visualisations for the model. \n",
    "\n",
    "1. visualise the groups (i.e. topics) that's been formed for the words.\n",
    "2. visualise the groups of documents belonging to the same topics.\n",
    "\n",
    "Also, we currently support 2 kinds of visualisations. You may configure them with the `kind` parameter.\n",
    "+ `tree`\n",
    "+ `radial`"
   ]
  },
  {
   "cell_type": "code",
   "execution_count": null,
   "id": "faa119ae-3b05-41b1-b631-12c6d87cb06a",
   "metadata": {},
   "outputs": [],
   "source": [
    "from atap_wrapper import visualise"
   ]
  },
  {
   "cell_type": "markdown",
   "id": "5599d55f-cf36-44e7-8ff5-e52ea72760dc",
   "metadata": {},
   "source": [
    "### 4a. Topics (groups of documents)"
   ]
  },
  {
   "cell_type": "code",
   "execution_count": null,
   "id": "6b19533d-bdeb-48d3-bbaf-8478bfdd6350",
   "metadata": {},
   "outputs": [],
   "source": [
    "vis_doc = visualise(\n",
    "    model=model, \n",
    "    corpus=corpus, \n",
    "    kind='documents',  # one of: words, documents\n",
    "    hierarchy='radial',# one of: radial, tree\n",
    "    categories=corpus['category'].tolist(),\n",
    "    width=500, height=500,\n",
    ")  "
   ]
  },
  {
   "cell_type": "code",
   "execution_count": null,
   "id": "36f4f790-01ea-44d1-aea4-0c765e8eecbb",
   "metadata": {},
   "outputs": [],
   "source": [
    "vis_doc.display(depth=0)"
   ]
  },
  {
   "cell_type": "markdown",
   "id": "292d55ca-df68-4358-9c73-00f217fb5dce",
   "metadata": {},
   "source": [
    "### 4b. Topics (groups of words)"
   ]
  },
  {
   "cell_type": "code",
   "execution_count": null,
   "id": "8a6a4e90-e76b-46dc-a290-0c33cd4fbeb4",
   "metadata": {},
   "outputs": [],
   "source": [
    "from time import perf_counter\n",
    "\n",
    "vis_words = visualise(model=model, \n",
    "                      corpus=corpus, \n",
    "                      kind='words',  # one of: words, documents\n",
    "                      hierarchy='radial', # one of: radial, tree\n",
    "                      top_words_for_level=0,\n",
    "                      top_num_words=1,)  "
   ]
  },
  {
   "cell_type": "code",
   "execution_count": null,
   "id": "1307851a-a8fb-4d52-bb10-28bd596cfbcb",
   "metadata": {},
   "outputs": [],
   "source": [
    "vis_words.display(depth=2)"
   ]
  },
  {
   "cell_type": "code",
   "execution_count": null,
   "id": "8efb9bfb-9822-4781-8846-fdd4026de345",
   "metadata": {},
   "outputs": [],
   "source": []
  }
 ],
 "metadata": {
  "kernelspec": {
   "display_name": "Python 3 (ipykernel)",
   "language": "python",
   "name": "python3"
  },
  "language_info": {
   "codemirror_mode": {
    "name": "ipython",
    "version": 3
   },
   "file_extension": ".py",
   "mimetype": "text/x-python",
   "name": "python",
   "nbconvert_exporter": "python",
   "pygments_lexer": "ipython3",
   "version": "3.11.5"
  }
 },
 "nbformat": 4,
 "nbformat_minor": 5
}
