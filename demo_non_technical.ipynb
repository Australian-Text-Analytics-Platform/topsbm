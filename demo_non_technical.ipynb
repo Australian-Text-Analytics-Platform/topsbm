{
 "cells": [
  {
   "cell_type": "markdown",
   "id": "8007a334-61ad-4c43-83fd-cd5461916789",
   "metadata": {},
   "source": [
    "<a href=\"https://atap.edu.au\"><img src=\"https://www.atap.edu.au/atap-logo.png\" width=\"125\" height=\"50\" align=\"right\"></a>\n",
    "# ATAP: TopSBM\n",
    "\n",
    "*Australian Text Analytics Platform (ATAP) is an open source environment that provides researchers with tools and training for analysing, processing, and exploring text. ATAP: TopSBM is an effort to integrate the TopSBM approach developed by E.G. Altman et al which focuses on analysing and exploring your text.*\n",
    "\n",
    "**This notebook is intended for non technical audience.**\n",
    "\n",
    "---\n",
    "\n",
    "**TopSBM** is a topic modelling algorithm. [Topic modelling](https://en.wikipedia.org/wiki/Topic_model) find *topics* within a collection of documents.\n",
    "\n",
    "A *topic* in topic modelling typically refers to a group of related documents from the collection. Note that the step of assigning a word to describe the group is not part of the topic modelling algorithm as opposed to the conventional idea. (However, this is can be achieved later on using a language model e.g. ChatGPT)\n",
    "\n",
    "A *document* refers to the full piece of text and is synonymous to the conventional meaning of the word.\n",
    "\n",
    "\n",
    "\n",
    "\n",
    "**References**:\n",
    "1. TopSBM: Topic Models based on Stochastic Block Models - https://topsbm.github.io/\n",
    "2. ATAP: Australian Text Analytics Platform - https://www.atap.edu.au/"
   ]
  },
  {
   "cell_type": "markdown",
   "id": "5d074772-0fcf-4d7a-9614-cbdfa7797820",
   "metadata": {},
   "source": [
    "## 1. Upload your dataset\n",
    "\n",
    "In the Corpus Loader below, select your dataset and build it as a Corpus.\n",
    "\n",
    "This is the first step in using the TopSBM notebook. Your Corpus should contain a collection of documents, so that *topics* may be inferred by running the TopSBM algorithm.\n",
    "\n",
    "For detailed instructions on how to use the Corpus Loader, please click <a href=\"Corpus Loader User Guide.pdf\" target=\"_blank\">here</a>.\n",
    "\n",
    "Please note:\n",
    "+ you don't have to use `corpus.csv` or `title.csv`. These are sample datasets.\n",
    "    + If you decide to use them, then click on `corpus.csv` and load as corpus, then `title.csv` loader as metadata. Then link via their `doc_id` label.\n",
    "+ you can safely ignore `corpus.txt`, `titles.txt`, these are kept for archiving purposes and are not used in this notebook."
   ]
  },
  {
   "cell_type": "code",
   "execution_count": null,
   "id": "d75a1902-3649-4b5d-82b9-5996a0302c8e",
   "metadata": {},
   "outputs": [],
   "source": [
    "from atap_corpus_loader import CorpusLoader\n",
    "\n",
    "loader = CorpusLoader('misc')\n",
    "loader"
   ]
  },
  {
   "cell_type": "code",
   "execution_count": null,
   "id": "1da3df49-bce0-40e9-8d8f-e0d053768954",
   "metadata": {},
   "outputs": [],
   "source": [
    "corpus = loader.get_latest_corpus()\n",
    "str(corpus), f\"Metas: {', '.join(corpus.metas)}\""
   ]
  },
  {
   "cell_type": "markdown",
   "id": "7da93c63-7123-47c4-bf0f-83666599e63e",
   "metadata": {},
   "source": [
    "## 2. Create a Document-Term Matrix (DTM) of your Corpus.\n",
    "\n",
    "A DTM is a matrix where rows are documents and the columns are terms (or words). This construct is a part of your Corpus.\n",
    "\n",
    "You'll need to construct one as it is used by the TopSBM topic modelling algorithm.\n",
    "\n",
    "To build one, you must first specify how to separate the text in each document into a list of words/terms. Here, we separate them by whitespace.\n",
    "\n",
    "You may also have multiple DTMs for different ways of separating the terms."
   ]
  },
  {
   "cell_type": "code",
   "execution_count": null,
   "id": "dcc2effd-d97f-4ebf-93ad-b84de036cbff",
   "metadata": {},
   "outputs": [],
   "source": [
    "import spacy\n",
    "nlp = spacy.blank('en')\n",
    "nlp.max_length = 1_500_000  # increase to support long articles up to 1.5m characters\n",
    "corpus.run_spacy(nlp)"
   ]
  },
  {
   "cell_type": "code",
   "execution_count": null,
   "id": "57b71c64-97a5-4a16-bbed-8a34d3667876",
   "metadata": {},
   "outputs": [],
   "source": [
    "## set up tokeniser functions\n",
    "from spacy.matcher import Matcher\n",
    "from atap_corpus._types import Doc\n",
    "\n",
    "\n",
    "matcher = Matcher(nlp.vocab)\n",
    "pattern = [{\"IS_STOP\": False}]  # Match tokens that are not stopwords\n",
    "matcher.add(\"NON_STOPWORDS\", [pattern])\n",
    "\n",
    "doc: Doc\n",
    "tokeniser_fns = {\n",
    "    \"whitespace\": lambda doc: [t.text for t in doc],\n",
    "    \"no_stopwords\": lambda doc: [doc[start:end].text for match_id, start, end in matcher(doc)]\n",
    "}"
   ]
  },
  {
   "cell_type": "markdown",
   "id": "1aae7bcf-2369-40bd-81aa-dd1ffca47c3d",
   "metadata": {},
   "source": [
    "## 3. TopSBM\n",
    "Now you have everything you need to run TopSBM!\n",
    "\n",
    "As you can see, we're accessing the Corpus's DTM, specifically the 'tokens' DTM as specified before.\n",
    "\n",
    "`model.make_graph(...)` constructs the graph for the model using the information from the DTM.\n",
    "`.model.fit()` will then run the TopSBM algorithm. \n",
    "\n",
    "Once it finishes running, the square bracket indicator on the left of the cell should change from [*] to [\\<number\\>] where \\<number\\> is a placeholder. "
   ]
  },
  {
   "cell_type": "code",
   "execution_count": null,
   "id": "10b8924d-72ea-4362-8bc7-4a2e43304197",
   "metadata": {},
   "outputs": [],
   "source": [
    "from topsbm.sbmtm import sbmtm\n",
    "import atap_wrapper as atap\n",
    "import panel as pn\n",
    "pn.extension()\n",
    "\n",
    "spinner = pn.indicators.LoadingSpinner(value=True, name='Fitting model...', color='success')\n",
    "display(spinner)\n",
    "\n",
    "model = sbmtm()\n",
    "model.make_graph(\n",
    "    atap.to_list_of_terms(corpus, tokeniser_fns['no_stopwords']),\n",
    "    corpus['title'].tolist(),\n",
    ")\n",
    "model.fit()\n",
    "\n",
    "spinner.value=False\n",
    "spinner.name=\"Fitting complete.\""
   ]
  },
  {
   "cell_type": "markdown",
   "id": "a11b9e75-9ed4-43f4-b62e-751a042a59e9",
   "metadata": {},
   "source": [
    "## 4. Visualise Outputs\n",
    "\n",
    "Now that the algorithm has been fitted onto your dataset, you can now visualise the outputs.\n",
    "\n",
    "There are currently 2 visualisations for the model. \n",
    "\n",
    "1. visualise the groups (i.e. topics) that's been formed for the words.\n",
    "2. visualise the groups of documents belonging to the same topics.\n"
   ]
  },
  {
   "cell_type": "markdown",
   "id": "5599d55f-cf36-44e7-8ff5-e52ea72760dc",
   "metadata": {},
   "source": [
    "### 4a. Topics (groups of documents)"
   ]
  },
  {
   "cell_type": "code",
   "execution_count": null,
   "id": "6b19533d-bdeb-48d3-bbaf-8478bfdd6350",
   "metadata": {},
   "outputs": [],
   "source": [
    "vis_doc = atap.visualise(\n",
    "    model=model, \n",
    "    corpus=corpus, \n",
    "    kind='documents',\n",
    "    hierarchy='radial',\n",
    "    categories=corpus['category'].tolist() if 'category' in corpus.metas else None,\n",
    ")  "
   ]
  },
  {
   "cell_type": "code",
   "execution_count": null,
   "id": "36f4f790-01ea-44d1-aea4-0c765e8eecbb",
   "metadata": {},
   "outputs": [],
   "source": [
    "vis_doc.display(depth=0)"
   ]
  },
  {
   "cell_type": "markdown",
   "id": "292d55ca-df68-4358-9c73-00f217fb5dce",
   "metadata": {},
   "source": [
    "### 4b. Topics (groups of words)"
   ]
  },
  {
   "cell_type": "code",
   "execution_count": null,
   "id": "8a6a4e90-e76b-46dc-a290-0c33cd4fbeb4",
   "metadata": {},
   "outputs": [],
   "source": [
    "vis_words = atap.visualise(\n",
    "    model=model, \n",
    "    corpus=corpus, \n",
    "    kind='words',\n",
    "    hierarchy='radial',\n",
    "    top_words_for_level=2,\n",
    "    top_num_words=10,\n",
    ")  "
   ]
  },
  {
   "cell_type": "code",
   "execution_count": null,
   "id": "1307851a-a8fb-4d52-bb10-28bd596cfbcb",
   "metadata": {},
   "outputs": [],
   "source": [
    "vis_words.display(depth=2)"
   ]
  },
  {
   "cell_type": "code",
   "execution_count": null,
   "id": "af0cf99e-3831-4e40-897a-4e27e2a0c645",
   "metadata": {},
   "outputs": [],
   "source": [
    "model.print_overview()"
   ]
  },
  {
   "cell_type": "code",
   "execution_count": null,
   "id": "e463c255-e360-460c-9ba5-8a90e5a36c5d",
   "metadata": {},
   "outputs": [],
   "source": [
    "model.topics(l=2)"
   ]
  },
  {
   "cell_type": "code",
   "execution_count": null,
   "id": "b4aef878-1ae9-4d78-b25e-1e9f2d3336a7",
   "metadata": {},
   "outputs": [],
   "source": [
    "model.topicdist(0, l=2)"
   ]
  },
  {
   "cell_type": "code",
   "execution_count": null,
   "id": "ccce989a-89f9-4182-a29d-887886f26844",
   "metadata": {},
   "outputs": [],
   "source": [
    "model.topicdist_relative(0, l=2)"
   ]
  },
  {
   "cell_type": "code",
   "execution_count": null,
   "id": "a542ccce-d2fb-43bd-9fb6-a964e1092f22",
   "metadata": {},
   "outputs": [],
   "source": [
    "model.docs_of_topic(l=2)"
   ]
  },
  {
   "cell_type": "markdown",
   "id": "3b51196d-fbfc-4826-af54-14f637ec66b7",
   "metadata": {},
   "source": [
    "## Bring your model results to a suite of other ATAP tools!\n",
    "\n",
    "**First, we'll add the results from TopSBM as meta data into our Corpus.**<br>\n",
    "This will retain the cluster that each document belongs for each of the levels which you can re-use in other ATAP notebooks!"
   ]
  },
  {
   "cell_type": "code",
   "execution_count": null,
   "id": "a566bf18-b433-4e2c-9758-77ab298f308a",
   "metadata": {},
   "outputs": [],
   "source": [
    "atap.add_results(model, corpus)\n",
    "\n",
    "print(\"\"\"\n",
    "Below displays Corpus-level metadata called 'attributes' which retains the information on where the added metadata is sourced from.\n",
    "You have added these metadata to your Corpus (see below under 'meta' key):\n",
    "\"\"\".strip())\n",
    "pn.pane.JSON(corpus.attributes, hover_preview=True, depth=-1, theme='light')"
   ]
  },
  {
   "cell_type": "markdown",
   "id": "fd8c3905-fff5-4062-b21c-bde8a614f4b6",
   "metadata": {},
   "source": [
    "Then, **Export** the corpus using our corpus loader from before."
   ]
  },
  {
   "cell_type": "code",
   "execution_count": null,
   "id": "1050d8b9-ca9f-43a1-8d17-83a4fdf30344",
   "metadata": {},
   "outputs": [],
   "source": [
    "print(f\"Export corpus you fitted the model on: i.e. name = '{corpus.name}'\")\n",
    "loader"
   ]
  },
  {
   "cell_type": "code",
   "execution_count": null,
   "id": "7de1aa3e-d930-4227-8fe3-49c4bfdb7213",
   "metadata": {},
   "outputs": [],
   "source": []
  }
 ],
 "metadata": {
  "kernelspec": {
   "display_name": "Python 3 (ipykernel)",
   "language": "python",
   "name": "python3"
  },
  "language_info": {
   "codemirror_mode": {
    "name": "ipython",
    "version": 3
   },
   "file_extension": ".py",
   "mimetype": "text/x-python",
   "name": "python",
   "nbconvert_exporter": "python",
   "pygments_lexer": "ipython3",
   "version": "3.11.5"
  }
 },
 "nbformat": 4,
 "nbformat_minor": 5
}
